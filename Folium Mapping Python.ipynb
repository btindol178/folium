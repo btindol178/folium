{
 "cells": [
  {
   "cell_type": "code",
   "execution_count": 2,
   "metadata": {},
   "outputs": [
    {
     "name": "stdout",
     "output_type": "stream",
     "text": [
      "Collecting folium\n",
      "  Downloading folium-0.12.1-py2.py3-none-any.whl (94 kB)\n",
      "Requirement already satisfied: jinja2>=2.9 in c:\\users\\btindol\\anaconda3\\lib\\site-packages (from folium) (2.11.2)\n",
      "Requirement already satisfied: numpy in c:\\users\\btindol\\anaconda3\\lib\\site-packages (from folium) (1.19.2)\n",
      "Requirement already satisfied: requests in c:\\users\\btindol\\anaconda3\\lib\\site-packages (from folium) (2.24.0)\n",
      "Collecting branca>=0.3.0\n",
      "  Downloading branca-0.4.2-py3-none-any.whl (24 kB)\n",
      "Requirement already satisfied: MarkupSafe>=0.23 in c:\\users\\btindol\\anaconda3\\lib\\site-packages (from jinja2>=2.9->folium) (1.1.1)\n",
      "Requirement already satisfied: idna<3,>=2.5 in c:\\users\\btindol\\anaconda3\\lib\\site-packages (from requests->folium) (2.10)\n",
      "Requirement already satisfied: urllib3!=1.25.0,!=1.25.1,<1.26,>=1.21.1 in c:\\users\\btindol\\anaconda3\\lib\\site-packages (from requests->folium) (1.25.11)\n",
      "Requirement already satisfied: chardet<4,>=3.0.2 in c:\\users\\btindol\\anaconda3\\lib\\site-packages (from requests->folium) (3.0.4)\n",
      "Requirement already satisfied: certifi>=2017.4.17 in c:\\users\\btindol\\anaconda3\\lib\\site-packages (from requests->folium) (2020.6.20)\n",
      "Installing collected packages: branca, folium\n",
      "Successfully installed branca-0.4.2 folium-0.12.1\n"
     ]
    }
   ],
   "source": [
    "!pip install folium"
   ]
  },
  {
   "cell_type": "code",
   "execution_count": 3,
   "metadata": {},
   "outputs": [],
   "source": [
    "import folium # look in china\n",
    "map = folium.Map(location = [38.58,-99.09],zoom_start = 6)\n",
    "map.save(\"Map1.html\")"
   ]
  },
  {
   "cell_type": "code",
   "execution_count": 7,
   "metadata": {},
   "outputs": [],
   "source": [
    "# Add style tilelayer look in china\n",
    "map = folium.Map(location = [38.58,-99.09],zoom_start = 6,TileLayer=\"Mapbox Bright\")\n",
    "map.save(\"Map2.html\")"
   ]
  },
  {
   "cell_type": "code",
   "execution_count": 10,
   "metadata": {},
   "outputs": [],
   "source": [
    "# Add marker look in china\n",
    "map = folium.Map(location = [38.28,-99.09],zoom_start = 6,TileLayer=\"Mapbox Bright\")\n",
    "map.add_child(folium.Marker(location =[38.2,99.1],popup=\"Hi i am a marker\",icon =folium.Icon(color='green')))\n",
    "map.save(\"Map3.html\")"
   ]
  },
  {
   "cell_type": "code",
   "execution_count": 11,
   "metadata": {},
   "outputs": [],
   "source": [
    "# Making a child passing the map into a variable \n",
    "map = folium.Map(location = [38.28,-99.09],zoom_start = 6,TileLayer=\"Mapbox Bright\")\n",
    "fg = folium.FeatureGroup(name=\"My map\")\n",
    "fg.add_child(folium.Marker(location =[38.2,99.1],popup=\"Hi i am a marker\",icon =folium.Icon(color='green')))\n",
    "map.add_child(fg)\n",
    "map.save(\"Map4.html\")"
   ]
  },
  {
   "cell_type": "code",
   "execution_count": 13,
   "metadata": {},
   "outputs": [],
   "source": [
    "# Making another variable \n",
    "map = folium.Map(location = [38.28,-99.09],zoom_start = 6,TileLayer=\"Mapbox Bright\")\n",
    "fg = folium.FeatureGroup(name=\"My map\")\n",
    "fg.add_child(folium.Marker(location =[38.2,99.1],popup=\"Hi i am a marker\",icon =folium.Icon(color='green')))\n",
    "fg.add_child(folium.Marker(location =[37.2,97.1],popup=\"Hi i am a marker2\",icon =folium.Icon(color='green')))\n",
    "\n",
    "map.add_child(fg)\n",
    "map.save(\"Map5.html\")"
   ]
  },
  {
   "cell_type": "code",
   "execution_count": null,
   "metadata": {},
   "outputs": [],
   "source": []
  }
 ],
 "metadata": {
  "kernelspec": {
   "display_name": "Python 3",
   "language": "python",
   "name": "python3"
  },
  "language_info": {
   "codemirror_mode": {
    "name": "ipython",
    "version": 3
   },
   "file_extension": ".py",
   "mimetype": "text/x-python",
   "name": "python",
   "nbconvert_exporter": "python",
   "pygments_lexer": "ipython3",
   "version": "3.8.5"
  }
 },
 "nbformat": 4,
 "nbformat_minor": 4
}
